{
 "cells": [
  {
   "cell_type": "code",
   "execution_count": null,
   "id": "6982433f-18e6-4c2c-8d74-a4206d402429",
   "metadata": {},
   "outputs": [],
   "source": [
    "import pandas as pd\n",
    "\n",
    "from constants import RAW_DATA, cols, df_types"
   ]
  },
  {
   "cell_type": "markdown",
   "id": "cc29422e-8463-4efc-bfb7-a66b2357d840",
   "metadata": {},
   "source": [
    "- https://strftime.org/\n",
    "- https://stackoverflow.com/a/47256241\n",
    "- https://stackoverflow.com/a/50663708\n",
    "- https://pandas.pydata.org/docs/reference/api/pandas.to_datetime.html"
   ]
  },
  {
   "cell_type": "code",
   "execution_count": null,
   "id": "d75f2de4-e54c-4752-ae51-5db20701c66c",
   "metadata": {},
   "outputs": [],
   "source": [
    "df = pd.read_excel(\n",
    "    RAW_DATA,\n",
    "    index_col=None,\n",
    "    sheet_name=\"Worksheet\",\n",
    "    verbose=True,\n",
    "    skipfooter=1,\n",
    "    dtype=df_types,\n",
    "    usecols=cols,\n",
    ")"
   ]
  },
  {
   "cell_type": "code",
   "execution_count": null,
   "id": "4a7442be-456d-462b-9c05-6e0dd03cf6ac",
   "metadata": {},
   "outputs": [],
   "source": [
    "df.columns = df.columns.str.strip()\n",
    "df[\"Start Date Name\"] = df[\"Start Date Name\"].str.removesuffix(\".0\")"
   ]
  },
  {
   "cell_type": "code",
   "execution_count": null,
   "id": "d8b58c3c-008f-4959-9384-50e16f711056",
   "metadata": {},
   "outputs": [],
   "source": [
    "df.head()"
   ]
  },
  {
   "cell_type": "code",
   "execution_count": null,
   "id": "a6e15ad7-84f7-4632-9d44-6033d7d56f49",
   "metadata": {},
   "outputs": [],
   "source": [
    "df[\"Start Date Name\"].value_counts(dropna=False)"
   ]
  },
  {
   "cell_type": "code",
   "execution_count": null,
   "id": "7ebe8c50-d966-47a9-8197-882365e51bc4",
   "metadata": {},
   "outputs": [],
   "source": [
    "month_year = pd.to_datetime(\n",
    "    df[\"Start Date Name\"], format=\"%b %Y\", errors=\"coerce\", exact=True\n",
    ")"
   ]
  },
  {
   "cell_type": "code",
   "execution_count": null,
   "id": "52f78b3d-c807-4ce5-a467-69c9f9c855e7",
   "metadata": {},
   "outputs": [],
   "source": [
    "print(month_year.min(), month_year.max(), sep=\"\\n\")"
   ]
  },
  {
   "cell_type": "code",
   "execution_count": null,
   "id": "85b92bc8-c36a-47a5-93f9-fcd189716e8f",
   "metadata": {},
   "outputs": [],
   "source": [
    "year = pd.to_datetime(df[\"Start Date Name\"], format=\"%Y\", errors=\"coerce\", exact=True)"
   ]
  },
  {
   "cell_type": "code",
   "execution_count": null,
   "id": "a934f0ba-23dc-498b-afc5-3eadf8f411e9",
   "metadata": {},
   "outputs": [],
   "source": [
    "print(year.min(), year.max(), sep=\"\\n\")"
   ]
  },
  {
   "cell_type": "markdown",
   "id": "c7d76f35-7464-4b27-9dd0-9afa113fb85d",
   "metadata": {},
   "source": [
    "The start of the projects goes from 2015 to April 2021."
   ]
  },
  {
   "cell_type": "markdown",
   "id": "60b025ed-91da-4612-a247-b13a3b628f37",
   "metadata": {},
   "source": [
    "---"
   ]
  }
 ],
 "metadata": {
  "kernelspec": {
   "display_name": "Python 3 (ipykernel)",
   "language": "python",
   "name": "python3"
  },
  "language_info": {
   "codemirror_mode": {
    "name": "ipython",
    "version": 3
   },
   "file_extension": ".py",
   "mimetype": "text/x-python",
   "name": "python",
   "nbconvert_exporter": "python",
   "pygments_lexer": "ipython3",
   "version": "3.8.12"
  }
 },
 "nbformat": 4,
 "nbformat_minor": 5
}
