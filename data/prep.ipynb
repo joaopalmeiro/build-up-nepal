{
 "cells": [
  {
   "cell_type": "markdown",
   "id": "58cd2325-8d4e-4a5b-b1a2-20ac63f9a6b4",
   "metadata": {},
   "source": [
    "# Data Preparation"
   ]
  },
  {
   "cell_type": "code",
   "execution_count": null,
   "id": "90af08d9-b315-48b9-ab10-eab87cc2932d",
   "metadata": {},
   "outputs": [],
   "source": [
    "from functools import partial\n",
    "\n",
    "import pandas as pd\n",
    "from inflection import parameterize"
   ]
  },
  {
   "cell_type": "code",
   "execution_count": null,
   "id": "2f6c8110-dd98-49d2-90fb-b7d63e416efe",
   "metadata": {},
   "outputs": [],
   "source": [
    "# import dtale"
   ]
  },
  {
   "cell_type": "markdown",
   "id": "9760f337-3d87-4b94-b92a-abd7db736e07",
   "metadata": {},
   "source": [
    "- https://pandas.pydata.org/pandas-docs/stable/user_guide/integer_na.html\n",
    "- https://en.wikipedia.org/wiki/Administrative_divisions_of_Nepal\n",
    "- https://pandas.pydata.org/pandas-docs/stable/user_guide/text.html\n",
    "- https://gadm.org/download_country.html\n",
    "- https://www.vizforsocialgood.com/join-a-project/2021/12/28/build-up-nepal\n",
    "- https://www.buildupnepal.com/project-map/\n",
    "- https://docs.python.org/3.8/library/json.html\n",
    "- https://inflection.readthedocs.io/en/latest/index.html#module-inflection"
   ]
  },
  {
   "cell_type": "markdown",
   "id": "d86b0390-38d8-48a8-a17e-69fb1243d47f",
   "metadata": {},
   "source": [
    "## Setup"
   ]
  },
  {
   "cell_type": "code",
   "execution_count": null,
   "id": "e746c5f7-f0c1-4361-912b-2c099b506140",
   "metadata": {},
   "outputs": [],
   "source": [
    "RAW_DATA = \"raw/M&E Map export - Nepal UPDATED 14 01 2022.xlsx\"\n",
    "OUTPUT_DATA = \"../src/data.json\""
   ]
  },
  {
   "cell_type": "code",
   "execution_count": null,
   "id": "8165abea-1a7e-4b2a-a246-88f3a15a0db7",
   "metadata": {},
   "outputs": [],
   "source": [
    "df_types = {\n",
    "    \"Bricks produced\": \"Int64\",\n",
    "    \"Houses built\": \"Int64\",\n",
    "    \"Schools\": \"Int64\",\n",
    "    # \"Jobs (production)\": \"Int64\",\n",
    "    # \"Jobs (construction)\": \"Int64\",\n",
    "    \"Total jobs \": \"Int64\",\n",
    "    \"Start Date Name\": str,\n",
    "}\n",
    "\n",
    "cols = [\n",
    "    \"Name\",\n",
    "    \"District\",\n",
    "    \"Province Name\",\n",
    "    \"Type\",\n",
    "    \"Latitude\",\n",
    "    \"Longitude\",\n",
    "    \"Gender\",\n",
    "    \"Start Date Name\",\n",
    "    \"Status\",\n",
    "    \"Bricks produced\",\n",
    "    \"Houses built\",\n",
    "    \"Schools\",\n",
    "    \"CO2 saved\",\n",
    "    # \"Jobs (production)\",\n",
    "    # \"Jobs (construction)\",\n",
    "    \"Total jobs \",\n",
    "    \"Description\",\n",
    "]"
   ]
  },
  {
   "cell_type": "code",
   "execution_count": null,
   "id": "7db3d070-0fc2-493d-b27f-9679efa61840",
   "metadata": {},
   "outputs": [],
   "source": [
    "df = pd.read_excel(\n",
    "    RAW_DATA,\n",
    "    # index_col=0,\n",
    "    index_col=None,\n",
    "    sheet_name=\"Worksheet\",\n",
    "    verbose=True,\n",
    "    skipfooter=1,\n",
    "    # dtype=str,\n",
    "    dtype=df_types,\n",
    "    usecols=cols,\n",
    ")\n",
    "\n",
    "df.columns = df.columns.str.strip()"
   ]
  },
  {
   "cell_type": "markdown",
   "id": "fc4cc33d-f3cc-4589-9567-d5316cd2ff28",
   "metadata": {},
   "source": [
    "## Data Analysis"
   ]
  },
  {
   "cell_type": "code",
   "execution_count": null,
   "id": "9f20f313-10ae-430b-bd58-8272b4155384",
   "metadata": {},
   "outputs": [],
   "source": [
    "df.shape"
   ]
  },
  {
   "cell_type": "code",
   "execution_count": null,
   "id": "6e18bfb0-d3f3-4b6a-b8ca-81095e175d28",
   "metadata": {},
   "outputs": [],
   "source": [
    "df.head()"
   ]
  },
  {
   "cell_type": "code",
   "execution_count": null,
   "id": "56ee75b1-8e97-4617-9086-690a5965e2c0",
   "metadata": {},
   "outputs": [],
   "source": [
    "df.tail()"
   ]
  },
  {
   "cell_type": "code",
   "execution_count": null,
   "id": "4a471e11-37c0-473c-8f09-27f78fce5d0f",
   "metadata": {},
   "outputs": [],
   "source": [
    "df.dtypes"
   ]
  },
  {
   "cell_type": "code",
   "execution_count": null,
   "id": "f73e8e80-9ae4-4fb8-826e-cf964c4984b5",
   "metadata": {
    "tags": []
   },
   "outputs": [],
   "source": [
    "# d = dtale.show(df)\n",
    "# d\n",
    "# d.open_browser()"
   ]
  },
  {
   "cell_type": "code",
   "execution_count": null,
   "id": "2aefc28b-7e19-4d59-90c0-cb7a9d0d2867",
   "metadata": {},
   "outputs": [],
   "source": [
    "# df[\"Province Name\"].isna().sum()\n",
    "df.isna().sum()\n",
    "\n",
    "# For numeric columns, should NaN be converted to 0?"
   ]
  },
  {
   "cell_type": "code",
   "execution_count": null,
   "id": "50980df0-adda-49b0-936d-f1fe001aadea",
   "metadata": {},
   "outputs": [],
   "source": [
    "df[\"District\"].value_counts(dropna=False)"
   ]
  },
  {
   "cell_type": "code",
   "execution_count": null,
   "id": "a018ff9c-67cc-4fbf-9f0d-a07aa73609c2",
   "metadata": {},
   "outputs": [],
   "source": [
    "df[\"Province Name\"].value_counts(dropna=False)"
   ]
  },
  {
   "cell_type": "code",
   "execution_count": null,
   "id": "642c0e00-89d4-44ec-ad86-e75f06310134",
   "metadata": {},
   "outputs": [],
   "source": [
    "df[\"Type\"].value_counts(dropna=False)"
   ]
  },
  {
   "cell_type": "code",
   "execution_count": null,
   "id": "0e3c4d03-47bf-4741-85a4-f0ed596e28f7",
   "metadata": {},
   "outputs": [],
   "source": [
    "# There are some latitudes and longitudes equal to 0.\n",
    "df[\"Latitude\"].value_counts(dropna=False)"
   ]
  },
  {
   "cell_type": "code",
   "execution_count": null,
   "id": "8396d9a9-cae0-48ca-8d7f-663c1eede97b",
   "metadata": {},
   "outputs": [],
   "source": [
    "df[\"Longitude\"].value_counts(dropna=False)"
   ]
  },
  {
   "cell_type": "code",
   "execution_count": null,
   "id": "b637d844-5ff9-4c25-9421-74afe43928fc",
   "metadata": {},
   "outputs": [],
   "source": [
    "df[\"Gender\"].value_counts(dropna=False)"
   ]
  },
  {
   "cell_type": "code",
   "execution_count": null,
   "id": "c3bceed2-6b98-424a-9f99-c367e38484d5",
   "metadata": {},
   "outputs": [],
   "source": [
    "# Years must be converted to strings.\n",
    "df[\"Start Date Name\"].value_counts(dropna=False)"
   ]
  },
  {
   "cell_type": "code",
   "execution_count": null,
   "id": "ea90fa90-fb86-4127-a8e8-eb665d1a9aba",
   "metadata": {},
   "outputs": [],
   "source": [
    "# (\n",
    "#     (df[\"Jobs (production)\"].fillna(0) + df[\"Jobs (construction)\"].fillna(0))\n",
    "#     == df[\"Total jobs\"]\n",
    "# ).sum() == df.shape[0]"
   ]
  },
  {
   "cell_type": "code",
   "execution_count": null,
   "id": "5b7cd844-5c80-4195-a703-a447c1d874d7",
   "metadata": {},
   "outputs": [],
   "source": [
    "df[\"Name\"].value_counts(dropna=False).head()"
   ]
  },
  {
   "cell_type": "code",
   "execution_count": null,
   "id": "0df0f0da-e0d2-4061-98f4-f9c95fdc8857",
   "metadata": {},
   "outputs": [],
   "source": [
    "# https://en.wikipedia.org/wiki/Nawalparasi_District\n",
    "df.query(\"Name == 'Sangita Shrestha'\")"
   ]
  },
  {
   "cell_type": "markdown",
   "id": "43d88adc-85d3-48fa-8332-b40d36ec4c05",
   "metadata": {},
   "source": [
    "## Data Processing"
   ]
  },
  {
   "cell_type": "code",
   "execution_count": null,
   "id": "cfff517c-14cd-4955-b0af-917186915b4d",
   "metadata": {},
   "outputs": [],
   "source": [
    "df[\"Start Date Name\"] = df[\"Start Date Name\"].str.removesuffix(\".0\")\n",
    "# df[\"Start Date Name\"].value_counts(dropna=False).head()"
   ]
  },
  {
   "cell_type": "code",
   "execution_count": null,
   "id": "0d72eb6a-4fbe-43eb-8eb0-dad9042c762f",
   "metadata": {},
   "outputs": [],
   "source": [
    "df.columns = map(partial(parameterize, separator=\"_\"), df.columns)\n",
    "df.columns.to_list()"
   ]
  },
  {
   "cell_type": "markdown",
   "id": "b0b4380d-9776-45d4-9aee-32aee39450b9",
   "metadata": {},
   "source": [
    "## Output"
   ]
  },
  {
   "cell_type": "code",
   "execution_count": null,
   "id": "15c1a99d-0932-4cb6-9d03-f1a06a9f2ae3",
   "metadata": {},
   "outputs": [],
   "source": [
    "# indent = 2\n",
    "indent = 0\n",
    "\n",
    "df.to_json(OUTPUT_DATA, orient=\"records\", force_ascii=False, indent=indent)"
   ]
  },
  {
   "cell_type": "markdown",
   "id": "ade39497-c607-4ed3-b768-34e37ea748f0",
   "metadata": {},
   "source": [
    "---"
   ]
  }
 ],
 "metadata": {
  "kernelspec": {
   "display_name": "Python 3 (ipykernel)",
   "language": "python",
   "name": "python3"
  },
  "language_info": {
   "codemirror_mode": {
    "name": "ipython",
    "version": 3
   },
   "file_extension": ".py",
   "mimetype": "text/x-python",
   "name": "python",
   "nbconvert_exporter": "python",
   "pygments_lexer": "ipython3",
   "version": "3.8.12"
  }
 },
 "nbformat": 4,
 "nbformat_minor": 5
}
