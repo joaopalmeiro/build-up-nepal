{
 "cells": [
  {
   "cell_type": "code",
   "execution_count": null,
   "id": "4bfd0641-92da-4e57-b1a1-ab1d1a95ecec",
   "metadata": {},
   "outputs": [],
   "source": [
    "import geopandas\n",
    "import pyproj"
   ]
  },
  {
   "cell_type": "markdown",
   "id": "5af0d3e2-998a-4c51-bd72-40423ffa7ff4",
   "metadata": {},
   "source": [
    "- https://en.wikipedia.org/wiki/List_of_districts_of_Nepal\n",
    "- https://mapshaper.org/\n",
    "- https://geopandas.org/en/stable/docs/user_guide/mapping.html\n",
    "- https://geopandas.org/en/stable/docs/user_guide/projections.html#re-projecting\n",
    "- https://proj.org/operations/projections/eqearth.html\n",
    "- https://geopandas.org/en/stable/docs/user_guide/aggregation_with_dissolve.html"
   ]
  },
  {
   "cell_type": "code",
   "execution_count": null,
   "id": "7421cf61-1464-4321-a8ac-fac00d7aa291",
   "metadata": {},
   "outputs": [],
   "source": [
    "DISTRICT_MAP = \"raw/nepal/district/npl_admbnda_districts_nd_20201117.shp\""
   ]
  },
  {
   "cell_type": "code",
   "execution_count": null,
   "id": "f574e9c0-d4bf-4fac-a321-03c4648a9dfc",
   "metadata": {},
   "outputs": [],
   "source": [
    "gdf = geopandas.read_file(DISTRICT_MAP)"
   ]
  },
  {
   "cell_type": "code",
   "execution_count": null,
   "id": "75ea6be7-1c3b-40d6-9226-5694f4555502",
   "metadata": {},
   "outputs": [],
   "source": [
    "gdf.head()"
   ]
  },
  {
   "cell_type": "code",
   "execution_count": null,
   "id": "8a85763d-d2cc-45b6-a2ba-3f874cdcc61d",
   "metadata": {},
   "outputs": [],
   "source": [
    "gdf.shape"
   ]
  },
  {
   "cell_type": "code",
   "execution_count": null,
   "id": "cf8da7cf-ad75-4a0d-8681-bd07a31efabe",
   "metadata": {},
   "outputs": [],
   "source": [
    "gdf.crs"
   ]
  },
  {
   "cell_type": "code",
   "execution_count": null,
   "id": "4eecf347-35af-47ed-bc47-048a4521acd6",
   "metadata": {},
   "outputs": [],
   "source": [
    "gdf.plot(figsize=(15, 10))"
   ]
  },
  {
   "cell_type": "code",
   "execution_count": null,
   "id": "44e770d4-9110-4227-a821-07e6e56670d0",
   "metadata": {},
   "outputs": [],
   "source": [
    "equal_earth_code = pyproj.CRS(\"+proj=eqearth\").to_epsg()\n",
    "equal_earth_code"
   ]
  },
  {
   "cell_type": "code",
   "execution_count": null,
   "id": "751d95a8-4c11-41fa-8ddd-c5f95515c65d",
   "metadata": {},
   "outputs": [],
   "source": [
    "ee_gdf = gdf.to_crs(epsg=equal_earth_code)"
   ]
  },
  {
   "cell_type": "code",
   "execution_count": null,
   "id": "fda7eb60-63df-4d45-aae9-a584ddab9045",
   "metadata": {},
   "outputs": [],
   "source": [
    "ee_gdf.crs"
   ]
  },
  {
   "cell_type": "code",
   "execution_count": null,
   "id": "08501307-37dc-49ff-ad49-185011cd1b20",
   "metadata": {},
   "outputs": [],
   "source": [
    "ee_gdf.plot(figsize=(15, 10))"
   ]
  },
  {
   "cell_type": "code",
   "execution_count": null,
   "id": "46b312bb-4ac8-4c15-98fd-d76e8da6623c",
   "metadata": {},
   "outputs": [],
   "source": [
    "ee_gdf.head()"
   ]
  },
  {
   "cell_type": "markdown",
   "id": "0f8fc6ea-6108-4e4e-868b-8880239610d9",
   "metadata": {},
   "source": [
    "---"
   ]
  }
 ],
 "metadata": {
  "kernelspec": {
   "display_name": "Python 3 (ipykernel)",
   "language": "python",
   "name": "python3"
  },
  "language_info": {
   "codemirror_mode": {
    "name": "ipython",
    "version": 3
   },
   "file_extension": ".py",
   "mimetype": "text/x-python",
   "name": "python",
   "nbconvert_exporter": "python",
   "pygments_lexer": "ipython3",
   "version": "3.8.12"
  }
 },
 "nbformat": 4,
 "nbformat_minor": 5
}
