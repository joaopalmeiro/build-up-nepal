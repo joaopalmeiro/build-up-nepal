{
 "cells": [
  {
   "cell_type": "code",
   "execution_count": null,
   "id": "4bfd0641-92da-4e57-b1a1-ab1d1a95ecec",
   "metadata": {},
   "outputs": [],
   "source": [
    "import fiona\n",
    "import geopandas\n",
    "import matplotlib.pyplot as plt\n",
    "import numpy as np\n",
    "import pandas as pd\n",
    "import pyproj\n",
    "from colour import HSL_to_RGB\n",
    "from inflection import parameterize\n",
    "\n",
    "from constants import OUTPUT_DATA, RAW_DATA, cols, df_types"
   ]
  },
  {
   "cell_type": "markdown",
   "id": "5af0d3e2-998a-4c51-bd72-40423ffa7ff4",
   "metadata": {},
   "source": [
    "- https://en.wikipedia.org/wiki/List_of_districts_of_Nepal\n",
    "- https://mapshaper.org/\n",
    "- https://geopandas.org/en/stable/docs/user_guide/mapping.html\n",
    "- https://geopandas.org/en/stable/docs/user_guide/projections.html#re-projecting\n",
    "- https://proj.org/operations/projections/eqearth.html\n",
    "- https://geopandas.org/en/stable/docs/user_guide/aggregation_with_dissolve.html\n",
    "- https://geopandas.org/en/stable/docs/user_guide/io.html#writing-spatial-data\n",
    "- https://matplotlib.org/stable/api/_as_gen/matplotlib.pyplot.savefig.html\n",
    "- https://matplotlib.org/stable/api/_as_gen/matplotlib.pyplot.margins.html\n",
    "- https://colour.readthedocs.io/en/latest/generated/colour.HSL_to_RGB.html#colour.HSL_to_RGB\n",
    "- https://matplotlib.org/devdocs/gallery/subplots_axes_and_figures/figure_size_units.html#figure-size-in-pixel\n",
    "- https://matplotlib.org/stable/tutorials/colors/colors.html"
   ]
  },
  {
   "cell_type": "code",
   "execution_count": null,
   "id": "7421cf61-1464-4321-a8ac-fac00d7aa291",
   "metadata": {},
   "outputs": [],
   "source": [
    "DISTRICT_MAP = \"raw/nepal/district/npl_admbnda_districts_nd_20201117.shp\""
   ]
  },
  {
   "cell_type": "code",
   "execution_count": null,
   "id": "f574e9c0-d4bf-4fac-a321-03c4648a9dfc",
   "metadata": {},
   "outputs": [],
   "source": [
    "gdf = geopandas.read_file(DISTRICT_MAP)"
   ]
  },
  {
   "cell_type": "code",
   "execution_count": null,
   "id": "75ea6be7-1c3b-40d6-9226-5694f4555502",
   "metadata": {},
   "outputs": [],
   "source": [
    "gdf.head()"
   ]
  },
  {
   "cell_type": "code",
   "execution_count": null,
   "id": "8a85763d-d2cc-45b6-a2ba-3f874cdcc61d",
   "metadata": {},
   "outputs": [],
   "source": [
    "gdf.shape"
   ]
  },
  {
   "cell_type": "code",
   "execution_count": null,
   "id": "cf8da7cf-ad75-4a0d-8681-bd07a31efabe",
   "metadata": {},
   "outputs": [],
   "source": [
    "gdf.crs"
   ]
  },
  {
   "cell_type": "code",
   "execution_count": null,
   "id": "4eecf347-35af-47ed-bc47-048a4521acd6",
   "metadata": {},
   "outputs": [],
   "source": [
    "gdf.plot(figsize=(15, 10))"
   ]
  },
  {
   "cell_type": "code",
   "execution_count": null,
   "id": "44e770d4-9110-4227-a821-07e6e56670d0",
   "metadata": {},
   "outputs": [],
   "source": [
    "equal_earth_code = pyproj.CRS(\"+proj=eqearth\").to_epsg()\n",
    "equal_earth_code"
   ]
  },
  {
   "cell_type": "code",
   "execution_count": null,
   "id": "751d95a8-4c11-41fa-8ddd-c5f95515c65d",
   "metadata": {},
   "outputs": [],
   "source": [
    "ee_gdf = gdf.to_crs(epsg=equal_earth_code)"
   ]
  },
  {
   "cell_type": "code",
   "execution_count": null,
   "id": "fda7eb60-63df-4d45-aae9-a584ddab9045",
   "metadata": {},
   "outputs": [],
   "source": [
    "ee_gdf.crs"
   ]
  },
  {
   "cell_type": "code",
   "execution_count": null,
   "id": "08501307-37dc-49ff-ad49-185011cd1b20",
   "metadata": {},
   "outputs": [],
   "source": [
    "ee_gdf.plot(figsize=(15, 10))"
   ]
  },
  {
   "cell_type": "code",
   "execution_count": null,
   "id": "46b312bb-4ac8-4c15-98fd-d76e8da6623c",
   "metadata": {},
   "outputs": [],
   "source": [
    "ee_gdf.head()"
   ]
  },
  {
   "cell_type": "code",
   "execution_count": null,
   "id": "9d440057-bb2e-4f9a-8fbc-122d18ec5d86",
   "metadata": {},
   "outputs": [],
   "source": [
    "ee_gdf.tail()"
   ]
  },
  {
   "cell_type": "code",
   "execution_count": null,
   "id": "d3155dc4-b6af-4660-a0db-21ca0eba28de",
   "metadata": {},
   "outputs": [],
   "source": [
    "ee_gdf[ee_gdf[\"DIST_EN\"].str.contains(\"Nawalparasi\")]"
   ]
  },
  {
   "cell_type": "code",
   "execution_count": null,
   "id": "a240ce20-dcd0-40cd-a228-c3f7af8d2c21",
   "metadata": {},
   "outputs": [],
   "source": [
    "ee_gdf[ee_gdf[\"DIST_EN\"].str.contains(\"Rukum\")]"
   ]
  },
  {
   "cell_type": "code",
   "execution_count": null,
   "id": "fd90eedd-3c08-49f2-9ac8-21dd4c1d2b52",
   "metadata": {},
   "outputs": [],
   "source": [
    "# df = pd.read_excel(\n",
    "#     RAW_DATA,\n",
    "#     index_col=None,\n",
    "#     sheet_name=\"Worksheet\",\n",
    "#     verbose=True,\n",
    "#     skipfooter=1,\n",
    "#     dtype=df_types,\n",
    "#     usecols=cols,\n",
    "# )\n",
    "\n",
    "# df.columns = df.columns.str.strip()\n",
    "\n",
    "df = pd.read_json(OUTPUT_DATA, convert_dates=False, orient=\"records\")\n",
    "df.head()"
   ]
  },
  {
   "cell_type": "code",
   "execution_count": null,
   "id": "73db0c9f-789b-4268-a663-7ddaa1ef1724",
   "metadata": {},
   "outputs": [],
   "source": [
    "# df[\"Province Name\"].value_counts(dropna=False)\n",
    "df[\"province_name\"].value_counts(dropna=False)"
   ]
  },
  {
   "cell_type": "code",
   "execution_count": null,
   "id": "9c20cd64-9188-4ee9-992a-cbcc6f1fc487",
   "metadata": {},
   "outputs": [],
   "source": [
    "# df[\"Province Name\"].nunique()\n",
    "df[\"province_name\"].nunique()"
   ]
  },
  {
   "cell_type": "code",
   "execution_count": null,
   "id": "fda7ea7e-630f-4e57-8faf-1b5672e7d49d",
   "metadata": {},
   "outputs": [],
   "source": [
    "# df[\"District\"].value_counts(dropna=False)\n",
    "df[\"district\"].value_counts(dropna=False)"
   ]
  },
  {
   "cell_type": "code",
   "execution_count": null,
   "id": "f7b623e2-7330-4cec-9865-3f7db16eca03",
   "metadata": {},
   "outputs": [],
   "source": [
    "# df[\"District\"].nunique()\n",
    "df[\"district\"].nunique()"
   ]
  },
  {
   "cell_type": "code",
   "execution_count": null,
   "id": "049c6017-ca79-4540-b361-8d195ff9804e",
   "metadata": {},
   "outputs": [],
   "source": [
    "# df[\"District\"].sort_values().unique().tolist()"
   ]
  },
  {
   "cell_type": "code",
   "execution_count": null,
   "id": "70ce69d3-2ce8-4d85-a4a2-d8cbaa453ca1",
   "metadata": {},
   "outputs": [],
   "source": [
    "# ee_gdf[\"DIST_EN\"].to_list()"
   ]
  },
  {
   "cell_type": "code",
   "execution_count": null,
   "id": "5c43c569-37ba-4ddc-9f2d-7f2315e200e7",
   "metadata": {},
   "outputs": [],
   "source": [
    "# df.loc[~df[\"District\"].isin(ee_gdf[\"DIST_EN\"]), \"District\"].value_counts()\n",
    "df.loc[~df[\"district\"].isin(ee_gdf[\"DIST_EN\"]), \"district\"].value_counts()"
   ]
  },
  {
   "cell_type": "code",
   "execution_count": null,
   "id": "d42f1511-cb3f-421a-ac8d-f8e13888764c",
   "metadata": {},
   "outputs": [],
   "source": [
    "# df.query(\"District == 'Dang Deokhuri'\")"
   ]
  },
  {
   "cell_type": "markdown",
   "id": "e9289152-1242-4d57-ad6f-ca24e67228d0",
   "metadata": {},
   "source": [
    "> Source: https://en.wikipedia.org/wiki/List_of_districts_of_Nepal and https://en.wikipedia.org/wiki/Dang_District,_Nepal\n",
    "\n",
    "**Map data**\n",
    "\n",
    "- ~Nawalparasi East + Nawalparasi West -> Nawalparasi~\n",
    "- Makawanpur -> Makwanpur\n",
    "- Chitawan -> Chitawan\n",
    "- Kabhrepalanchok -> Kavrepalanchok\n",
    "- ~Rukum East + Rukum West -> Rukum~\n",
    "\n",
    "**Raw data** (`prep.ipynb`)\n",
    "\n",
    "- Dang Deokhuri -> Dang\n",
    "- Nawalparasi -> Nawalparasi East or Nawalparasi West\n",
    "- Rukum -> Rukum East or Rukum West"
   ]
  },
  {
   "cell_type": "code",
   "execution_count": null,
   "id": "69b5b9f2-7d0b-4df2-9390-8830d3a109ae",
   "metadata": {},
   "outputs": [],
   "source": [
    "# df[\"Province Name\"].sort_values().unique().tolist()\n",
    "df[\"province_name\"].sort_values().unique().tolist()"
   ]
  },
  {
   "cell_type": "code",
   "execution_count": null,
   "id": "c677d658-803d-4d0c-92b6-bf11c8af50dc",
   "metadata": {},
   "outputs": [],
   "source": [
    "ee_gdf[\"ADM1_EN\"].sort_values().unique().tolist()"
   ]
  },
  {
   "cell_type": "markdown",
   "id": "5f18f8f4-210b-40d3-9d8d-eb205f2f0362",
   "metadata": {},
   "source": [
    "**Map data**\n",
    "\n",
    "- Sudurpaschim -> Sudurpashchim"
   ]
  },
  {
   "cell_type": "code",
   "execution_count": null,
   "id": "68f33216-e11b-42b5-b6e5-ed0f4eda6456",
   "metadata": {},
   "outputs": [],
   "source": [
    "province_map = {\n",
    "    \"Bagmati\": \"Bagmati Province\",\n",
    "    \"Gandaki\": \"Gandaki Province\",\n",
    "    \"Karnali\": \"Karnali Province\",\n",
    "    \"Lumbini\": \"Lumbini Province\",\n",
    "    \"Province 1\": \"Province No. 1\",\n",
    "    \"Province 2\": \"Province No. 2\",\n",
    "    \"Sudurpaschim\": \"Sudurpashchim Province\",\n",
    "}\n",
    "\n",
    "ee_gdf[\"ADM1_EN\"] = ee_gdf[\"ADM1_EN\"].replace(province_map)"
   ]
  },
  {
   "cell_type": "code",
   "execution_count": null,
   "id": "c3fb10d3-b5ef-4128-a438-d7acea02abff",
   "metadata": {},
   "outputs": [],
   "source": [
    "district_map = {\n",
    "    # \"Nawalparasi East\": \"Nawalparasi\",\n",
    "    # \"Nawalparasi West\": \"Nawalparasi\",\n",
    "    \"Makawanpur\": \"Makwanpur\",\n",
    "    \"Chitawan\": \"Chitawan\",\n",
    "    \"Kabhrepalanchok\": \"Kavrepalanchok\",\n",
    "    # \"Rukum East\": \"Rukum\",\n",
    "    # \"Rukum West\": \"Rukum\",\n",
    "}\n",
    "\n",
    "ee_gdf[\"DIST_EN\"] = ee_gdf[\"DIST_EN\"].replace(district_map)"
   ]
  },
  {
   "cell_type": "code",
   "execution_count": null,
   "id": "b611d778-9b24-46b2-ac3b-07d7ab93703b",
   "metadata": {},
   "outputs": [],
   "source": [
    "# ee_gdf[\"DIST_EN\"].unique()\n",
    "# ee_gdf.head()\n",
    "# ee_gdf.crs"
   ]
  },
  {
   "cell_type": "code",
   "execution_count": null,
   "id": "49aec2d5-a8dc-480f-8f40-9b1f72ee6b8c",
   "metadata": {},
   "outputs": [],
   "source": [
    "ee_gdf.query(\"DIST_EN == 'Rukum'\").plot()"
   ]
  },
  {
   "cell_type": "code",
   "execution_count": null,
   "id": "e4b0ae77-d5c4-45eb-b7a5-a37d5413e48f",
   "metadata": {},
   "outputs": [],
   "source": [
    "# hsl(252, 4%, 57.3%)\n",
    "# hsl(260, 25%, 11%)\n",
    "# hsl(252, 4%, 44.8%)\n",
    "\n",
    "bg_color = HSL_to_RGB([252 / 360, 4 / 100, 57.3 / 100])\n",
    "\n",
    "main_color = HSL_to_RGB([260 / 360, 25 / 100, 11 / 100])\n",
    "\n",
    "edge_color = HSL_to_RGB([252 / 360, 4 / 100, 44.8 / 100])"
   ]
  },
  {
   "cell_type": "code",
   "execution_count": null,
   "id": "55f0fa0b-1ed6-49b7-bd59-14755f96fe4b",
   "metadata": {},
   "outputs": [],
   "source": [
    "print(bg_color, main_color, edge_color, sep=\"\\n\")"
   ]
  },
  {
   "cell_type": "code",
   "execution_count": null,
   "id": "b94bbdb8-1fce-4941-b4e9-a0055337493a",
   "metadata": {},
   "outputs": [],
   "source": [
    "ee_gdf.query(\"ADM1_EN == 'Bagmati Province'\").sample()"
   ]
  },
  {
   "cell_type": "code",
   "execution_count": null,
   "id": "1face762-581e-4994-9669-adb9ea33e058",
   "metadata": {},
   "outputs": [],
   "source": [
    "def generate_minimaps_province(df, province_name):\n",
    "    pdf = df.query(\"ADM1_EN == @province_name\")\n",
    "    # colors = [bg_color] * pdf.shape[0]\n",
    "    colors = [main_color, bg_color]\n",
    "\n",
    "    for i, district in enumerate(pdf[\"DIST_EN\"].unique()):\n",
    "        output = parameterize(f\"{province_name}-{district}\", separator=\"_\")\n",
    "\n",
    "        print(i, district, output, sep=\" | \")\n",
    "\n",
    "        # tmp_colors = colors.copy()\n",
    "        # tmp_colors[i] = main_color\n",
    "\n",
    "        tmp_pdf = pdf.copy()\n",
    "\n",
    "        tmp_pdf[\"dissolve\"] = np.where(\n",
    "            tmp_pdf[\"DIST_EN\"] != district,\n",
    "            \"Y\",\n",
    "            \"N\",\n",
    "        )\n",
    "\n",
    "        tmp_pdf = tmp_pdf.dissolve(by=\"dissolve\", sort=True)\n",
    "\n",
    "        tmp_pdf.plot(color=colors, aspect=\"auto\", edgecolor=\"white\", linewidth=0.25)\n",
    "\n",
    "        plt.axis(\"off\")\n",
    "        plt.margins(0)\n",
    "\n",
    "        plt.savefig(\n",
    "            f\"raw/minimaps/{output}.svg\",\n",
    "            format=\"svg\",\n",
    "            transparent=True,\n",
    "            bbox_inches=\"tight\",\n",
    "            pad_inches=0,\n",
    "            # backend=\"svg\"\n",
    "            backend=\"cairo\",\n",
    "        )\n",
    "\n",
    "        plt.close()"
   ]
  },
  {
   "cell_type": "code",
   "execution_count": null,
   "id": "25229061-3d30-4ffc-8d8a-4ef0d863400d",
   "metadata": {},
   "outputs": [],
   "source": [
    "for province in ee_gdf[\"ADM1_EN\"].unique():\n",
    "    generate_minimaps_province(ee_gdf, province)"
   ]
  },
  {
   "cell_type": "markdown",
   "id": "0f8fc6ea-6108-4e4e-868b-8880239610d9",
   "metadata": {},
   "source": [
    "---"
   ]
  }
 ],
 "metadata": {
  "kernelspec": {
   "display_name": "Python 3 (ipykernel)",
   "language": "python",
   "name": "python3"
  },
  "language_info": {
   "codemirror_mode": {
    "name": "ipython",
    "version": 3
   },
   "file_extension": ".py",
   "mimetype": "text/x-python",
   "name": "python",
   "nbconvert_exporter": "python",
   "pygments_lexer": "ipython3",
   "version": "3.8.12"
  }
 },
 "nbformat": 4,
 "nbformat_minor": 5
}
