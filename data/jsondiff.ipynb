{
 "cells": [
  {
   "cell_type": "code",
   "execution_count": null,
   "id": "90b137b4-7738-48c9-be06-a940dd6f66f8",
   "metadata": {},
   "outputs": [],
   "source": [
    "import difflib\n",
    "import json\n",
    "\n",
    "from jsondiff import diff\n",
    "from wasabi import color\n",
    "\n",
    "from constants import OUTPUT_DATA"
   ]
  },
  {
   "cell_type": "code",
   "execution_count": null,
   "id": "7baecabb-0ef3-46c5-8020-ffbc90f5de54",
   "metadata": {},
   "outputs": [],
   "source": [
    "def json_loader(filename):\n",
    "    with open(filename, encoding=\"utf-8\") as file:\n",
    "        data = json.load(file)\n",
    "\n",
    "    return data"
   ]
  },
  {
   "cell_type": "code",
   "execution_count": null,
   "id": "29bac67b-4f40-4a74-9e85-1b93a4310f15",
   "metadata": {},
   "outputs": [],
   "source": [
    "# Source: https://gist.github.com/ines/04b47597eb9d011ade5e77a068389521 by Ines Montani\n",
    "\n",
    "\n",
    "def diff_strings(a, b):\n",
    "    output = []\n",
    "    matcher = difflib.SequenceMatcher(None, a, b)\n",
    "\n",
    "    for opcode, a0, a1, b0, b1 in matcher.get_opcodes():\n",
    "        if opcode == \"equal\":\n",
    "            output.append(a[a0:a1])\n",
    "        elif opcode == \"insert\":\n",
    "            output.append(color(b[b0:b1], fg=16, bg=\"green\"))\n",
    "        elif opcode == \"delete\":\n",
    "            output.append(color(a[a0:a1], fg=16, bg=\"red\"))\n",
    "        elif opcode == \"replace\":\n",
    "            output.append(color(b[b0:b1], fg=16, bg=\"green\"))\n",
    "            output.append(color(a[a0:a1], fg=16, bg=\"red\"))\n",
    "\n",
    "    return \"\".join(output)"
   ]
  },
  {
   "cell_type": "code",
   "execution_count": null,
   "id": "ae6a5d58-3592-4b28-a5a3-3cfc3e2e2614",
   "metadata": {},
   "outputs": [],
   "source": [
    "data = json_loader(OUTPUT_DATA)"
   ]
  },
  {
   "cell_type": "code",
   "execution_count": null,
   "id": "2b1b8921-e577-480c-a948-2b30f2aebf33",
   "metadata": {},
   "outputs": [],
   "source": [
    "old_data = json_loader(\"../src/data_old.json\")"
   ]
  },
  {
   "cell_type": "code",
   "execution_count": null,
   "id": "f35876e2-0cc9-42d4-899d-613766f50791",
   "metadata": {},
   "outputs": [],
   "source": [
    "diff_data = diff(old_data, data, syntax=\"symmetric\")"
   ]
  },
  {
   "cell_type": "code",
   "execution_count": null,
   "id": "dec888f6-b73e-41a4-b414-32ca589dec55",
   "metadata": {},
   "outputs": [],
   "source": [
    "len(diff_data)"
   ]
  },
  {
   "cell_type": "code",
   "execution_count": null,
   "id": "c1be3102-cd1b-49bc-907d-573bcb5f95cc",
   "metadata": {},
   "outputs": [],
   "source": [
    "for key, value in diff_data.items():\n",
    "    print(color(f\"\\n{key}\", bold=True))\n",
    "    print(value.keys())\n",
    "\n",
    "    # print(json.dumps(value, sort_keys=True, indent=4))\n",
    "\n",
    "    if \"description\" in value:\n",
    "        print(diff_strings(value[\"description\"][0], value[\"description\"][1]))"
   ]
  },
  {
   "cell_type": "markdown",
   "id": "a7a0a91f-4f8f-4e51-988a-34d95cb88719",
   "metadata": {},
   "source": [
    "---"
   ]
  }
 ],
 "metadata": {
  "kernelspec": {
   "display_name": "Python 3 (ipykernel)",
   "language": "python",
   "name": "python3"
  },
  "language_info": {
   "codemirror_mode": {
    "name": "ipython",
    "version": 3
   },
   "file_extension": ".py",
   "mimetype": "text/x-python",
   "name": "python",
   "nbconvert_exporter": "python",
   "pygments_lexer": "ipython3",
   "version": "3.8.12"
  }
 },
 "nbformat": 4,
 "nbformat_minor": 5
}
