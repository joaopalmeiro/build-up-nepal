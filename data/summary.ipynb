{
 "cells": [
  {
   "cell_type": "markdown",
   "id": "e1ba00bb-8469-49b3-83d1-f1275969c95b",
   "metadata": {},
   "source": [
    "# Five-Number Summary"
   ]
  },
  {
   "cell_type": "code",
   "execution_count": null,
   "id": "860934e4-b182-4a74-a2a6-05baa5217304",
   "metadata": {},
   "outputs": [],
   "source": [
    "import json\n",
    "\n",
    "import numpy as np\n",
    "import pandas as pd\n",
    "from IPython.display import display\n",
    "\n",
    "from constants import RAW_DATA, SUMMARY_DATA, cols, df_types"
   ]
  },
  {
   "cell_type": "markdown",
   "id": "da0e9c21-415d-43b2-9ad7-ffe77d13106a",
   "metadata": {},
   "source": [
    "- https://en.wikipedia.org/wiki/Five-number_summary\n",
    "- https://numpy.org/doc/stable/reference/generated/numpy.percentile.html\n",
    "- https://en.wikipedia.org/wiki/Quartile\n",
    "- https://pandas.pydata.org/docs/reference/api/pandas.DataFrame.unstack.html\n",
    "- https://stackoverflow.com/a/33233406"
   ]
  },
  {
   "cell_type": "markdown",
   "id": "d59a53c4-0272-46b4-aeb9-06a159e2e781",
   "metadata": {},
   "source": [
    "## Setup"
   ]
  },
  {
   "cell_type": "code",
   "execution_count": null,
   "id": "982bbcbd-7532-4bb9-8a56-421636c07e3e",
   "metadata": {},
   "outputs": [],
   "source": [
    "def get_five_number_summary(data):\n",
    "    return np.percentile(data, [0, 25, 50, 75, 100], method=\"midpoint\").tolist()"
   ]
  },
  {
   "cell_type": "code",
   "execution_count": null,
   "id": "412ec543-5f91-4352-97eb-fa4f6aef00ce",
   "metadata": {},
   "outputs": [],
   "source": [
    "df = pd.read_excel(\n",
    "    RAW_DATA,\n",
    "    index_col=None,\n",
    "    sheet_name=\"Worksheet\",\n",
    "    verbose=True,\n",
    "    skipfooter=1,\n",
    "    dtype=df_types,\n",
    "    usecols=cols,\n",
    ")\n",
    "\n",
    "df.columns = df.columns.str.strip()"
   ]
  },
  {
   "cell_type": "markdown",
   "id": "7e8c1d0c-3763-4458-a576-94752009acbb",
   "metadata": {},
   "source": [
    "## Data Analysis"
   ]
  },
  {
   "cell_type": "code",
   "execution_count": null,
   "id": "a2780264-333a-414b-b6db-dafe6fc64838",
   "metadata": {},
   "outputs": [],
   "source": [
    "df.shape"
   ]
  },
  {
   "cell_type": "code",
   "execution_count": null,
   "id": "51066e7d-1ab4-4e3e-93f7-88ad1a0e7eec",
   "metadata": {},
   "outputs": [],
   "source": [
    "df.head()"
   ]
  },
  {
   "cell_type": "code",
   "execution_count": null,
   "id": "165182d6-dfe3-4ee6-ad86-d20a26c33591",
   "metadata": {},
   "outputs": [],
   "source": [
    "df.dtypes"
   ]
  },
  {
   "cell_type": "code",
   "execution_count": null,
   "id": "d175ec8f-aa55-4a82-97e0-e6f07e3c35a7",
   "metadata": {},
   "outputs": [],
   "source": [
    "df.isna().sum()"
   ]
  },
  {
   "cell_type": "code",
   "execution_count": null,
   "id": "1bddbaf7-262d-4141-ac59-a448abac45cc",
   "metadata": {},
   "outputs": [],
   "source": [
    "df[df[\"Bricks produced\"].isna()].head()"
   ]
  },
  {
   "cell_type": "code",
   "execution_count": null,
   "id": "70ab1fac-bd97-4b2d-af52-71feb8ddd165",
   "metadata": {},
   "outputs": [],
   "source": [
    "df[df[\"CO2 saved\"] == 0].head()"
   ]
  },
  {
   "cell_type": "code",
   "execution_count": null,
   "id": "30faca4b-8297-4f1f-84d2-fe19bf330ef7",
   "metadata": {},
   "outputs": [],
   "source": [
    "df[df[\"Total jobs\"] == 0].shape"
   ]
  },
  {
   "cell_type": "code",
   "execution_count": null,
   "id": "18007d19-e6dd-4551-8ef6-c0a8ae5c83d8",
   "metadata": {},
   "outputs": [],
   "source": [
    "with pd.option_context(\"display.max_columns\", None):\n",
    "    display(df.groupby(\"Type\")[\"Total jobs\"].value_counts().unstack())"
   ]
  },
  {
   "cell_type": "code",
   "execution_count": null,
   "id": "ddac9b35-88d8-4b27-8b7b-b186278e0e40",
   "metadata": {},
   "outputs": [],
   "source": [
    "df[\"Bricks produced\"].describe()"
   ]
  },
  {
   "cell_type": "code",
   "execution_count": null,
   "id": "3a35e5d2-fc88-4f0b-a9d9-911962b15555",
   "metadata": {},
   "outputs": [],
   "source": [
    "df[\"Total jobs\"].describe()"
   ]
  },
  {
   "cell_type": "code",
   "execution_count": null,
   "id": "349f6d28-442e-4929-a62e-86efd03d9fe9",
   "metadata": {},
   "outputs": [],
   "source": [
    "df[\"CO2 saved\"].describe()"
   ]
  },
  {
   "cell_type": "markdown",
   "id": "99b51b9d-212c-4518-98db-93d1d3293345",
   "metadata": {},
   "source": [
    "## Data Processing"
   ]
  },
  {
   "cell_type": "markdown",
   "id": "ccf72012-3e96-44c1-acd7-03aef3cd1906",
   "metadata": {},
   "source": [
    "Filter projects with missing information about the bricks (and consequently no `CO2 saved`) to compute the summary.\n",
    "\n",
    "Consider all 0 values for the `Total jobs` column. Keep in mind that there are different `Type`s of projects. Also, there are rows with `Total jobs` values greater than 0, even though they don't have information about the number of bricks."
   ]
  },
  {
   "cell_type": "code",
   "execution_count": null,
   "id": "91667dc1-22b6-4c99-b48e-dd4ae1f9883d",
   "metadata": {},
   "outputs": [],
   "source": [
    "filtered_df = df[df[\"Bricks produced\"].notnull()]"
   ]
  },
  {
   "cell_type": "code",
   "execution_count": null,
   "id": "1d3e0b9b-de34-4532-9b40-92910d7f0657",
   "metadata": {},
   "outputs": [],
   "source": [
    "# filtered_df.shape\n",
    "# filtered_df.isna().sum()"
   ]
  },
  {
   "cell_type": "code",
   "execution_count": null,
   "id": "bf6a834a-3b74-474b-966c-37510ce327bf",
   "metadata": {},
   "outputs": [],
   "source": [
    "bricks_summary = get_five_number_summary(filtered_df[\"Bricks produced\"])\n",
    "bricks_summary"
   ]
  },
  {
   "cell_type": "code",
   "execution_count": null,
   "id": "58c170d9-f683-40cd-b916-208f252d9319",
   "metadata": {},
   "outputs": [],
   "source": [
    "jobs_summary = get_five_number_summary(df[\"Total jobs\"])\n",
    "jobs_summary"
   ]
  },
  {
   "cell_type": "code",
   "execution_count": null,
   "id": "85b4d051-9acd-4f62-a8ed-836dd1216ca1",
   "metadata": {},
   "outputs": [],
   "source": [
    "carbon_summary = get_five_number_summary(filtered_df[\"CO2 saved\"])\n",
    "carbon_summary"
   ]
  },
  {
   "cell_type": "markdown",
   "id": "09f8010e-1f41-41f2-891e-16cfcdbc39d9",
   "metadata": {},
   "source": [
    "## Output"
   ]
  },
  {
   "cell_type": "code",
   "execution_count": null,
   "id": "4f53b254-4ed3-4ab2-85a7-3afaab99b51d",
   "metadata": {},
   "outputs": [],
   "source": [
    "output = {\"bricks\": bricks_summary, \"jobs\": jobs_summary, \"carbon\": carbon_summary}\n",
    "output"
   ]
  },
  {
   "cell_type": "code",
   "execution_count": null,
   "id": "0e2107d6-40be-4145-8255-55f1e0a2caf5",
   "metadata": {},
   "outputs": [],
   "source": [
    "with open(SUMMARY_DATA, \"w\") as fp:\n",
    "    json.dump(output, fp, ensure_ascii=False, separators=(\",\", \":\"))"
   ]
  },
  {
   "cell_type": "markdown",
   "id": "1440ce30-dd66-416d-a83b-4ed56bfc9afe",
   "metadata": {},
   "source": [
    "---"
   ]
  }
 ],
 "metadata": {
  "kernelspec": {
   "display_name": "Python 3 (ipykernel)",
   "language": "python",
   "name": "python3"
  },
  "language_info": {
   "codemirror_mode": {
    "name": "ipython",
    "version": 3
   },
   "file_extension": ".py",
   "mimetype": "text/x-python",
   "name": "python",
   "nbconvert_exporter": "python",
   "pygments_lexer": "ipython3",
   "version": "3.8.12"
  }
 },
 "nbformat": 4,
 "nbformat_minor": 5
}
