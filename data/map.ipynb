{
 "cells": [
  {
   "cell_type": "code",
   "execution_count": null,
   "id": "d0408474-ef05-4051-8fb7-cbe4542d65d5",
   "metadata": {},
   "outputs": [],
   "source": [
    "import fiona\n",
    "import geopandas"
   ]
  },
  {
   "cell_type": "markdown",
   "id": "ce87be1a-cb40-464f-af0d-12a4666c440a",
   "metadata": {},
   "source": [
    "- https://fiona.readthedocs.io/en/latest/\n",
    "- https://geopandas.org/en/stable/docs/reference/api/geopandas.GeoDataFrame.to_file.html\n",
    "- https://fiona.readthedocs.io/en/latest/fiona.html#fiona.open"
   ]
  },
  {
   "cell_type": "code",
   "execution_count": null,
   "id": "dd2ce70c-481e-42ba-8b29-c35a1014ae15",
   "metadata": {},
   "outputs": [],
   "source": [
    "fiona.supported_drivers"
   ]
  },
  {
   "cell_type": "code",
   "execution_count": null,
   "id": "c3c39eb4-1039-4040-a05c-66bd66bef8c1",
   "metadata": {},
   "outputs": [],
   "source": [
    "PROVINCE_MAP = \"raw/nepal/province/npl_admbnda_adm1_nd_20201117.shp\"\n",
    "\n",
    "# OUTPUT_MAP = \"../src/map.geojson\"\n",
    "OUTPUT_MAP = \"../src/map.json\""
   ]
  },
  {
   "cell_type": "code",
   "execution_count": null,
   "id": "2f3decb7-6701-4002-b8b9-bef26d66fcc2",
   "metadata": {},
   "outputs": [],
   "source": [
    "gdf = geopandas.read_file(PROVINCE_MAP)"
   ]
  },
  {
   "cell_type": "code",
   "execution_count": null,
   "id": "3791908a-246d-4065-9d5e-95074a8d0b0a",
   "metadata": {},
   "outputs": [],
   "source": [
    "gdf.head()"
   ]
  },
  {
   "cell_type": "code",
   "execution_count": null,
   "id": "9ad0c58a-4df3-4385-afc8-c1d559997b49",
   "metadata": {},
   "outputs": [],
   "source": [
    "gdf.crs"
   ]
  },
  {
   "cell_type": "code",
   "execution_count": null,
   "id": "1f45bb58-44d7-4aa5-afc3-4b72131f3653",
   "metadata": {},
   "outputs": [],
   "source": [
    "gdf.to_file(OUTPUT_MAP, driver=\"GeoJSON\", index=False)"
   ]
  },
  {
   "cell_type": "markdown",
   "id": "76e4c06d-3292-4000-a984-c781f300ae1e",
   "metadata": {},
   "source": [
    "---"
   ]
  }
 ],
 "metadata": {
  "kernelspec": {
   "display_name": "Python 3 (ipykernel)",
   "language": "python",
   "name": "python3"
  },
  "language_info": {
   "codemirror_mode": {
    "name": "ipython",
    "version": 3
   },
   "file_extension": ".py",
   "mimetype": "text/x-python",
   "name": "python",
   "nbconvert_exporter": "python",
   "pygments_lexer": "ipython3",
   "version": "3.8.12"
  }
 },
 "nbformat": 4,
 "nbformat_minor": 5
}
